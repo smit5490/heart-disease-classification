{
 "cells": [
  {
   "cell_type": "markdown",
   "metadata": {},
   "source": [
    "# Business & Data Understanding (Exploratory Data Analysis)\n",
    "\n",
    "This notebook explores the UCI heart disease data to better understand how to clean and transform the data for down stream analysis.\n",
    "\n",
    "## Problem Definition\n",
    "\n",
    "In a statement,\n",
    "> Given clinical parameters about a patient, can we predict whether or not they have heart disease?\n",
    "\n",
    "## Data\n",
    "\n",
    "The original data came from the Cleavland data (processed.cleveland.data) from the UCI Machine Learning Repository. https://archive.ics.uci.edu/ml/datasets/Heart+Disease\n",
    "\n",
    "There is also a version of it available on Kaggle, but there are issues with the `thal` field not matching the original. https://www.kaggle.com/ronitf/heart-disease-uci\n",
    "\n",
    "## Goal\n",
    "\n",
    "> If we can reach 80% accuracy at predicting whether or not a patient has heart disease during the proof of concept, we'll deploy the pipeline.\n",
    "\n",
    "## Features\n",
    "Digging around the UCI repository, you'll find a description of the main fields used for machine learning. They are all provided as numeric fields, but upon closer inspection, some are actually ordinal, binary and categorical.\n",
    "  \n",
    "1. age - age in years\n",
    "2. sex - (1 = male; 0 = female)\n",
    "3. cp - chest pain type\n",
    "    * 1 - typical angina\n",
    "    * 2 - atypical angina\n",
    "    * 3 - non-anginal pain\n",
    "    * 4 - asymptomatic\n",
    "4. trestbps - resting blood pressure (in mm Hg on admission to the hospital)\n",
    "5. chol - serum cholestoral in mg/dl\n",
    "6. fbs - (fasting blood sugar > 120 mg/dl) (1 = true; 0 = false)\n",
    "7. restecg - resting electrocardiographic results\n",
    "    * 0 - normal\n",
    "    * 1 - having ST-T wave abnormality (T wave inversions and/or ST elevation or depression of > 0.05 mV) \n",
    "    * 2 - showing probable or definite left ventricular hypertrophy by Estes' criteria\n",
    "8. thalach - maximum heart rate achieved\n",
    "9. exang - exercise induced angina (1 = yes; 0 = no)\n",
    "10. oldpeak - ST depression induced by exercise relative to rest\n",
    "11. slope - the slope of the peak exercise ST segment\n",
    "    * 1 - upsloping\n",
    "    * 2 - flat\n",
    "    * 3 - downsloping\n",
    "12. ca - number of major vessels (0-3) colored by flourosopy\n",
    "13. thal\n",
    "    * 3 - normal\n",
    "    * 6 - fixed defect\n",
    "    * 7 - reversable defect\n",
    "14. target - 0,1,2,3,4 (where > 0 indicates heart disease)"
   ]
  },
  {
   "cell_type": "code",
   "execution_count": null,
   "metadata": {},
   "outputs": [],
   "source": []
  }
 ],
 "metadata": {
  "kernelspec": {
   "display_name": "Python 3",
   "language": "python",
   "name": "python3"
  },
  "language_info": {
   "codemirror_mode": {
    "name": "ipython",
    "version": 3
   },
   "file_extension": ".py",
   "mimetype": "text/x-python",
   "name": "python",
   "nbconvert_exporter": "python",
   "pygments_lexer": "ipython3",
   "version": "3.7.0"
  }
 },
 "nbformat": 4,
 "nbformat_minor": 4
}
