{
 "cells": [
  {
   "cell_type": "markdown",
   "metadata": {},
   "source": [
    "# Data Preparation\n",
    "**Author**: Robert Smith  \n",
    "**Date:** 06-18-2020\n",
    "\n",
    "This notebook builds off of the first notebook and focuses on data preparation for machine learning. For the final deployed model, we'll use scikit-learn pipeline. Ideally, the pipeline would take in raw records/observations and output a prediction. However, there are two main challenges using a scikit-learn pipeline model deployed on the Google Cloud. These are:\n",
    "\n",
    "* Converting the three numeric features `cp`, `restecg`, and `thal` into their respective categorical equivalent\n",
    "* Converting the numeric target feature into a binary value. \n",
    "\n",
    "The first of these can be implemented using a custom `FunctionTransformer` in the pipeline. However, using a custom transformer requires additional leg work to deploy it on the Google Cloud. You can read more about this [here](https://cloud.google.com/ai-platform/prediction/docs/exporting-for-prediction#custom-pipeline-code).\n",
    "\n",
    "The second challenge isn't readily solvable in the scikit-learn API and requires a pre-processing step before the scikit-learn pipeline. \n",
    "\n",
    "What we'll do to get to the modeling stage right now is do a little data pre-processing before feeding the observations into the scikit-learn pipeline. To do this, we'll use the data_transformer function from the previous script. Eventually, we will re-visit this challenge and write a couple custom python modules that we can package together along with a pickled model which will allow us to create a custom prediction routine. This deployment strategy is the most flexible approach, and is likely needed with real-world raw data. More information about custom prediction routines can be found [here](https://cloud.google.com/ai-platform/prediction/docs/custom-prediction-routines)."
   ]
  },
  {
   "cell_type": "markdown",
   "metadata": {},
   "source": [
    "## Import Tools of the Trade"
   ]
  },
  {
   "cell_type": "code",
   "execution_count": 1,
   "metadata": {},
   "outputs": [],
   "source": [
    "import numpy as np\n",
    "import pandas as pd"
   ]
  },
  {
   "cell_type": "markdown",
   "metadata": {},
   "source": [
    "## Load Data\n",
    "\n",
    "We've already downloaded the data set and saved it in the data folder. If you would like to download directly, the data set can be found [here](https://archive.ics.uci.edu/ml/machine-learning-databases/heart-disease/processed.cleveland.data)"
   ]
  },
  {
   "cell_type": "code",
   "execution_count": 2,
   "metadata": {},
   "outputs": [],
   "source": [
    "col_names = [\"age\", \"sex\", \"cp\", \"trestbps\", \"chol\", \"fbs\", \"restecg\",\n",
    "             \"thalach\", \"exang\", \"oldpeak\", \"slope\",\"ca\", \"thal\", \"target\"]\n",
    "\n",
    "df = pd.read_csv(\"../data/processed.cleveland.data\", names = col_names, na_values = \"?\")"
   ]
  },
  {
   "cell_type": "markdown",
   "metadata": {},
   "source": [
    "## Transform Data"
   ]
  },
  {
   "cell_type": "code",
   "execution_count": 3,
   "metadata": {},
   "outputs": [],
   "source": [
    "def data_transformer(df):\n",
    "    \"\"\"\n",
    "    Accepts the raw heart disease dataframe and returns it with cp, restecg, and thal_dict\n",
    "    transformed into categorical features.\n",
    "    \"\"\"\n",
    "    \n",
    "    cp_dict = {1: \"typical angina\",\n",
    "               2: \"atypical angina\",\n",
    "               3: \"non-anginal pain\", \n",
    "               4: \"asymptomatic\"}\n",
    "\n",
    "    restecg_dict = {0: \"normal\", \n",
    "                    1: \"wave abnormality\", \n",
    "                    2: \"ventricular hypertrophy\"}\n",
    "\n",
    "    thal_dict = {3 : \"normal\",\n",
    "                 6 : \"fixed defect\",\n",
    "                 7 : \"reversable defect\"}\n",
    "    \n",
    "    df[\"cp\"].replace(cp_dict, inplace = True)\n",
    "    df[\"restecg\"].replace(restecg_dict, inplace = True)\n",
    "    df[\"thal\"].replace(thal_dict, inplace = True)\n",
    "    \n",
    "    df[\"target\"] = (df[\"target\"] > 0).astype(int)\n",
    "    \n",
    "    return df"
   ]
  },
  {
   "cell_type": "code",
   "execution_count": 4,
   "metadata": {},
   "outputs": [],
   "source": [
    "df_tidy = data_transformer(df)"
   ]
  },
  {
   "cell_type": "markdown",
   "metadata": {},
   "source": [
    "## Output Tidy DataFrame"
   ]
  },
  {
   "cell_type": "code",
   "execution_count": 5,
   "metadata": {},
   "outputs": [],
   "source": [
    "df_tidy.to_csv(\"../data/02_df_tidy.csv\", index = False)"
   ]
  }
 ],
 "metadata": {
  "kernelspec": {
   "display_name": "Python 3",
   "language": "python",
   "name": "python3"
  },
  "language_info": {
   "codemirror_mode": {
    "name": "ipython",
    "version": 3
   },
   "file_extension": ".py",
   "mimetype": "text/x-python",
   "name": "python",
   "nbconvert_exporter": "python",
   "pygments_lexer": "ipython3",
   "version": "3.7.0"
  }
 },
 "nbformat": 4,
 "nbformat_minor": 4
}
